{
 "cells": [
  {
   "cell_type": "markdown",
   "metadata": {},
   "source": [
    "# spam_tweet_detector\n",
    "\n",
    "Utilizing 3 machine learning models, SVM, LSTM and Naive Bayes, to identify 'Spam' or 'Quality' tweet.\n",
    "\n",
    "The models have been trained in advance. If you want to see the Project itself including how the model architectures were chosen and deep analysis on performance, have a look at this [repo](https://github.com/rodonguyen/showcase_AI_ML/tree/master/1.%20Twitter%20Spam%20Detection)."
   ]
  },
  {
   "cell_type": "markdown",
   "metadata": {},
   "source": [
    "# Your input\n",
    "\n",
    "Input values are in the code block below.\n",
    "\n",
    "Instructions:\n",
    "- CHOOSE A TWEET BY UNCOMMENTING ONE, more data in ./train.csv\n",
    "- CHANGE THE following, followers, actions, is_retweet VALUES IF YOU KNOW WHAT THEY ARE :)"
   ]
  },
  {
   "cell_type": "code",
   "execution_count": 8,
   "metadata": {},
   "outputs": [],
   "source": [
    "### CHOOSE A TWEET BY UNCOMMENTING ONE\n",
    "\n",
    "tweet_content = \"Big day.  #WeTheNorth #yyz #thesix #sunset #skyline @ The Six https://www.instagram.com/p/BFgrA9gBZay/\"  # Quality example\n",
    "# tweet_content = \"Eastside Ivo (@eastside_ivo) came through Real Talk on Sunday. Sorry we couldn't be more… https://www.instagram.com/p/BFgq0pRCzfS/\"  # Quality example\n",
    "# tweet_content = \"Is Hyperloop the future of travel? http://fb.me/3QdMfJDWC\"  # Quality example\n",
    "# tweet_content = \"FDNY Fighting Blaze at Multiple Bronx Homes https://t.co/KAu9TfZuNX https://t.co/Cu6vRPWC30\"  # Spam example\n",
    "# tweet_content = \"US jet shoots down Iranian-made drone https://t.co/TyDNtlFnJF https://t.co/z8gJ1fK3QX\"  # Spam example\n",
    "# tweet_content = \"Jerry Sandusky denies child molestation charges in court https://t.co/YaAlPIhnve\"  # Spam example\n",
    "# tweet_content = \"Oh damn!! https://t.co/KgGPYXogqf https://t.co/aLrDErjv2U\"  # Spam example\n",
    "\n",
    "\n",
    "### CHANGE THESE VALUES IF YOU KNOW WHAT THEY ARE\n",
    "\n",
    "following = 4743    # The number of followings of the tweet owner, 4743 is mean value\n",
    "followers = 366142  # The number of followers of the tweet owner, 366142 is mean value\n",
    "actions = 7232      # The total number of favourites, replies, and retweets associated with the tweet. 7232 is mean value\n",
    "is_retweet = 0      # 1 if the tweet is a retweet. Otherwise, 0."
   ]
  },
  {
   "cell_type": "markdown",
   "metadata": {},
   "source": [
    "# Prepare"
   ]
  },
  {
   "cell_type": "code",
   "execution_count": 9,
   "metadata": {
    "scrolled": true
   },
   "outputs": [],
   "source": [
    "# Importing libraries\n",
    "import os\n",
    "os.environ['TF_CPP_MIN_LOG_LEVEL'] = '3'\n",
    "import utils, utils_naive_bayes, utils_svm, pandas, utils_lstm\n",
    "# sys.modules.pop('utils')\n",
    "\n",
    "# Load Model\n",
    "lstm_model = utils_lstm.load_LSTM_model()\n",
    "nb_model = utils_naive_bayes.load_naive_bayes_model()\n",
    "svm_model = utils_svm.load_svm_model()\n",
    "\n",
    "# Prepare data\n",
    "lstm_tweet_tensor, lstm_others_col_std = utils_lstm.preprocessing_input([[tweet_content, following, followers, actions, is_retweet]])\n",
    "nb_input = utils_naive_bayes.preprocess_input([tweet_content])\n",
    "svm_input = utils_svm.preprocess_input([[tweet_content, following, followers, actions, is_retweet]])"
   ]
  },
  {
   "cell_type": "markdown",
   "metadata": {},
   "source": [
    "# Predict"
   ]
  },
  {
   "cell_type": "code",
   "execution_count": 10,
   "metadata": {},
   "outputs": [
    {
     "name": "stdout",
     "output_type": "stream",
     "text": [
      "1/1 [==============================] - 0s 479ms/step\n"
     ]
    },
    {
     "data": {
      "text/html": [
       "<div>\n",
       "<style scoped>\n",
       "    .dataframe tbody tr th:only-of-type {\n",
       "        vertical-align: middle;\n",
       "    }\n",
       "\n",
       "    .dataframe tbody tr th {\n",
       "        vertical-align: top;\n",
       "    }\n",
       "\n",
       "    .dataframe thead th {\n",
       "        text-align: right;\n",
       "    }\n",
       "</style>\n",
       "<table border=\"1\" class=\"dataframe\">\n",
       "  <thead>\n",
       "    <tr style=\"text-align: right;\">\n",
       "      <th></th>\n",
       "      <th>model</th>\n",
       "      <th>prediction</th>\n",
       "    </tr>\n",
       "  </thead>\n",
       "  <tbody>\n",
       "    <tr>\n",
       "      <th>0</th>\n",
       "      <td>LSTM</td>\n",
       "      <td>Quality</td>\n",
       "    </tr>\n",
       "    <tr>\n",
       "      <th>1</th>\n",
       "      <td>Naive Bayes</td>\n",
       "      <td>Quality</td>\n",
       "    </tr>\n",
       "    <tr>\n",
       "      <th>2</th>\n",
       "      <td>SVM</td>\n",
       "      <td>Quality</td>\n",
       "    </tr>\n",
       "  </tbody>\n",
       "</table>\n",
       "</div>"
      ],
      "text/plain": [
       "         model prediction\n",
       "0         LSTM    Quality\n",
       "1  Naive Bayes    Quality\n",
       "2          SVM    Quality"
      ]
     },
     "execution_count": 10,
     "metadata": {},
     "output_type": "execute_result"
    }
   ],
   "source": [
    "prediction = pandas.DataFrame(\n",
    "  [\n",
    "    ['LSTM', (lstm_model.predict([lstm_tweet_tensor, lstm_others_col_std]) >= 0.5)],\n",
    "    ['Naive Bayes', nb_model.predict(nb_input)[0]],\n",
    "    ['SVM', svm_model.predict(svm_input)[0]]\n",
    "  ], \n",
    "  columns=['model', 'prediction'])\n",
    "  \n",
    "prediction[prediction == True] = \"Spam\"\n",
    "prediction[prediction == False] = \"Quality\"\n",
    "prediction"
   ]
  }
 ],
 "metadata": {
  "kernelspec": {
   "display_name": "Python 3 (ipykernel)",
   "language": "python",
   "name": "python3"
  },
  "language_info": {
   "codemirror_mode": {
    "name": "ipython",
    "version": 3
   },
   "file_extension": ".py",
   "mimetype": "text/x-python",
   "name": "python",
   "nbconvert_exporter": "python",
   "pygments_lexer": "ipython3",
   "version": "3.10.8"
  },
  "vscode": {
   "interpreter": {
    "hash": "4157fc4eb822a8fd487f4b9eaf7974d17c306819e795acb8dcd27e660a15480a"
   }
  }
 },
 "nbformat": 4,
 "nbformat_minor": 2
}
